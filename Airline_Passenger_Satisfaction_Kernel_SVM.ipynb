{
  "nbformat": 4,
  "nbformat_minor": 0,
  "metadata": {
    "colab": {
      "name": "Airline Passenger Satisfaction - Kernel SVM.ipynb",
      "provenance": [],
      "toc_visible": true
    },
    "kernelspec": {
      "display_name": "Python 3",
      "name": "python3"
    }
  },
  "cells": [
    {
      "cell_type": "markdown",
      "metadata": {
        "id": "bEyd-8STK8Ad"
      },
      "source": [
        "# **Accessing Kaggle API and Dataset**"
      ]
    },
    {
      "cell_type": "code",
      "metadata": {
        "colab": {
          "resources": {
            "http://localhost:8080/nbextensions/google.colab/files.js": {
              "data": "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",
              "ok": true,
              "headers": [
                [
                  "content-type",
                  "application/javascript"
                ]
              ],
              "status": 200,
              "status_text": ""
            }
          },
          "base_uri": "https://localhost:8080/",
          "height": 89
        },
        "id": "8RuJQ_SXK9Qq",
        "outputId": "60fb6e0f-6589-4b7a-b946-ec4993dd3f38"
      },
      "source": [
        "from google.colab import files\r\n",
        "\r\n",
        "files.upload()"
      ],
      "execution_count": 1,
      "outputs": [
        {
          "output_type": "display_data",
          "data": {
            "text/html": [
              "\n",
              "     <input type=\"file\" id=\"files-8b3b6182-d562-4264-8224-f4fc0cddaae3\" name=\"files[]\" multiple disabled\n",
              "        style=\"border:none\" />\n",
              "     <output id=\"result-8b3b6182-d562-4264-8224-f4fc0cddaae3\">\n",
              "      Upload widget is only available when the cell has been executed in the\n",
              "      current browser session. Please rerun this cell to enable.\n",
              "      </output>\n",
              "      <script src=\"/nbextensions/google.colab/files.js\"></script> "
            ],
            "text/plain": [
              "<IPython.core.display.HTML object>"
            ]
          },
          "metadata": {
            "tags": []
          }
        },
        {
          "output_type": "stream",
          "text": [
            "Saving kaggle.json to kaggle.json\n"
          ],
          "name": "stdout"
        },
        {
          "output_type": "execute_result",
          "data": {
            "text/plain": [
              "{'kaggle.json': b'{\"username\":\"drsenderson\",\"key\":\"ea25c1c4914948371bdf0d7b87dd3bc2\"}'}"
            ]
          },
          "metadata": {
            "tags": []
          },
          "execution_count": 1
        }
      ]
    },
    {
      "cell_type": "code",
      "metadata": {
        "id": "Io0-oHkl2yuU"
      },
      "source": [
        "!mkdir ~/.kaggle\r\n",
        "!cp kaggle.json ~/.kaggle/kaggle.json\r\n",
        "!chmod 600 ~/.kaggle/kaggle.json"
      ],
      "execution_count": 2,
      "outputs": []
    },
    {
      "cell_type": "code",
      "metadata": {
        "colab": {
          "base_uri": "https://localhost:8080/"
        },
        "id": "HnI7ttmR4LD0",
        "outputId": "0b0ab06d-11ea-46e8-b9db-d72ec32090ee"
      },
      "source": [
        "!kaggle datasets download -d teejmahal20/airline-passenger-satisfaction"
      ],
      "execution_count": 3,
      "outputs": [
        {
          "output_type": "stream",
          "text": [
            "Downloading airline-passenger-satisfaction.zip to /content\n",
            "\r  0% 0.00/2.71M [00:00<?, ?B/s]\n",
            "\r100% 2.71M/2.71M [00:00<00:00, 91.2MB/s]\n"
          ],
          "name": "stdout"
        }
      ]
    },
    {
      "cell_type": "code",
      "metadata": {
        "colab": {
          "base_uri": "https://localhost:8080/"
        },
        "id": "q0zZf-2D4iQa",
        "outputId": "ae62e8a8-b229-45ef-85cf-0421975a5a09"
      },
      "source": [
        "!unzip airline-passenger-satisfaction.zip"
      ],
      "execution_count": 4,
      "outputs": [
        {
          "output_type": "stream",
          "text": [
            "Archive:  airline-passenger-satisfaction.zip\n",
            "  inflating: test.csv                \n",
            "  inflating: train.csv               \n"
          ],
          "name": "stdout"
        }
      ]
    },
    {
      "cell_type": "markdown",
      "metadata": {
        "id": "qzKnAc975pz3"
      },
      "source": [
        "# **Importing Libraries**"
      ]
    },
    {
      "cell_type": "code",
      "metadata": {
        "id": "N1C1qZKW4qer"
      },
      "source": [
        "import numpy as np\r\n",
        "import matplotlib.pyplot as plt\r\n",
        "import pandas as pd"
      ],
      "execution_count": 5,
      "outputs": []
    },
    {
      "cell_type": "markdown",
      "metadata": {
        "id": "ZdBNLkWt5vus"
      },
      "source": [
        "# **Importing the Training Dataset**"
      ]
    },
    {
      "cell_type": "code",
      "metadata": {
        "id": "2hrZlNbt58Zi"
      },
      "source": [
        "train = pd.read_csv('train.csv')\r\n",
        "X_train = train.iloc[:, :-1].values\r\n",
        "y_train = train.iloc[:, -1].values"
      ],
      "execution_count": 6,
      "outputs": []
    },
    {
      "cell_type": "markdown",
      "metadata": {
        "id": "n5jI7pLI72SP"
      },
      "source": [
        "# **Importing the Testing Dataset**"
      ]
    },
    {
      "cell_type": "code",
      "metadata": {
        "id": "8enp-AoF7-F4"
      },
      "source": [
        "test = pd.read_csv('test.csv')\r\n",
        "X_test = test.iloc[:, :-1].values\r\n",
        "y_test = test.iloc[:, -1].values"
      ],
      "execution_count": 7,
      "outputs": []
    },
    {
      "cell_type": "markdown",
      "metadata": {
        "id": "CBLBJVMd8Utr"
      },
      "source": [
        "# **Removing Irrelevant Features**"
      ]
    },
    {
      "cell_type": "code",
      "metadata": {
        "colab": {
          "base_uri": "https://localhost:8080/"
        },
        "id": "b-qttRSQ8rBt",
        "outputId": "3669ae62-e0a0-4e53-9557-c7fd916fd63b"
      },
      "source": [
        "print(X_train)"
      ],
      "execution_count": 8,
      "outputs": [
        {
          "output_type": "stream",
          "text": [
            "[[0 70172 'Male' ... 5 25 18.0]\n",
            " [1 5047 'Male' ... 1 1 6.0]\n",
            " [2 110028 'Female' ... 5 0 0.0]\n",
            " ...\n",
            " [103901 68825 'Male' ... 4 7 14.0]\n",
            " [103902 54173 'Female' ... 1 0 0.0]\n",
            " [103903 62567 'Male' ... 1 0 0.0]]\n"
          ],
          "name": "stdout"
        }
      ]
    },
    {
      "cell_type": "code",
      "metadata": {
        "colab": {
          "base_uri": "https://localhost:8080/"
        },
        "id": "nvuws-Jm92AX",
        "outputId": "98f90a1f-a65f-4707-fe61-06e6650f9be7"
      },
      "source": [
        "X_train = pd.DataFrame(X_train)\r\n",
        "X_train = X_train.iloc [:,2:].values\r\n",
        "print(X_train)"
      ],
      "execution_count": 9,
      "outputs": [
        {
          "output_type": "stream",
          "text": [
            "[['Male' 'Loyal Customer' 13 ... 5 25 18.0]\n",
            " ['Male' 'disloyal Customer' 25 ... 1 1 6.0]\n",
            " ['Female' 'Loyal Customer' 26 ... 5 0 0.0]\n",
            " ...\n",
            " ['Male' 'disloyal Customer' 30 ... 4 7 14.0]\n",
            " ['Female' 'disloyal Customer' 22 ... 1 0 0.0]\n",
            " ['Male' 'Loyal Customer' 27 ... 1 0 0.0]]\n"
          ],
          "name": "stdout"
        }
      ]
    },
    {
      "cell_type": "code",
      "metadata": {
        "colab": {
          "base_uri": "https://localhost:8080/"
        },
        "id": "is_jQVMw-Kuk",
        "outputId": "60e8d6b8-08ff-43c3-a5d2-948338734047"
      },
      "source": [
        "X_test = pd.DataFrame(X_test)\r\n",
        "X_test = X_test.iloc [:,2:].values\r\n",
        "print(X_test)"
      ],
      "execution_count": 10,
      "outputs": [
        {
          "output_type": "stream",
          "text": [
            "[['Female' 'Loyal Customer' 52 ... 5 50 44.0]\n",
            " ['Female' 'Loyal Customer' 36 ... 5 0 0.0]\n",
            " ['Male' 'disloyal Customer' 20 ... 2 0 0.0]\n",
            " ...\n",
            " ['Female' 'Loyal Customer' 17 ... 2 0 0.0]\n",
            " ['Male' 'Loyal Customer' 14 ... 4 0 0.0]\n",
            " ['Female' 'Loyal Customer' 42 ... 1 0 0.0]]\n"
          ],
          "name": "stdout"
        }
      ]
    },
    {
      "cell_type": "markdown",
      "metadata": {
        "id": "BFGwZDlM_I5F"
      },
      "source": [
        "# **Encode for Gender**"
      ]
    },
    {
      "cell_type": "code",
      "metadata": {
        "colab": {
          "base_uri": "https://localhost:8080/"
        },
        "id": "jk6ADZMR_Nz_",
        "outputId": "85e6ddf4-1481-4cb2-8c77-f3cf3606fb86"
      },
      "source": [
        "from sklearn.preprocessing import LabelEncoder\r\n",
        "le = LabelEncoder()\r\n",
        "X_train[:,0] = le.fit_transform(X_train[:,0])\r\n",
        "print(X_train)"
      ],
      "execution_count": 11,
      "outputs": [
        {
          "output_type": "stream",
          "text": [
            "[[1 'Loyal Customer' 13 ... 5 25 18.0]\n",
            " [1 'disloyal Customer' 25 ... 1 1 6.0]\n",
            " [0 'Loyal Customer' 26 ... 5 0 0.0]\n",
            " ...\n",
            " [1 'disloyal Customer' 30 ... 4 7 14.0]\n",
            " [0 'disloyal Customer' 22 ... 1 0 0.0]\n",
            " [1 'Loyal Customer' 27 ... 1 0 0.0]]\n"
          ],
          "name": "stdout"
        }
      ]
    },
    {
      "cell_type": "code",
      "metadata": {
        "colab": {
          "base_uri": "https://localhost:8080/"
        },
        "id": "ZRp36rl5A_oM",
        "outputId": "51b62025-a7cd-4a8d-c136-0fc3411c0559"
      },
      "source": [
        "from sklearn.preprocessing import LabelEncoder\r\n",
        "le = LabelEncoder()\r\n",
        "X_test[:,0] = le.fit_transform(X_test[:,0])\r\n",
        "print(X_test)"
      ],
      "execution_count": 12,
      "outputs": [
        {
          "output_type": "stream",
          "text": [
            "[[0 'Loyal Customer' 52 ... 5 50 44.0]\n",
            " [0 'Loyal Customer' 36 ... 5 0 0.0]\n",
            " [1 'disloyal Customer' 20 ... 2 0 0.0]\n",
            " ...\n",
            " [0 'Loyal Customer' 17 ... 2 0 0.0]\n",
            " [1 'Loyal Customer' 14 ... 4 0 0.0]\n",
            " [0 'Loyal Customer' 42 ... 1 0 0.0]]\n"
          ],
          "name": "stdout"
        }
      ]
    },
    {
      "cell_type": "markdown",
      "metadata": {
        "id": "VKMJETAkBMlw"
      },
      "source": [
        "# **Encode for Customer Loyalty**"
      ]
    },
    {
      "cell_type": "code",
      "metadata": {
        "colab": {
          "base_uri": "https://localhost:8080/"
        },
        "id": "2IlWl7gdBRcg",
        "outputId": "f553f1f6-945b-4ea8-9a76-1fdf201c5ba0"
      },
      "source": [
        "from sklearn.preprocessing import LabelEncoder\r\n",
        "le = LabelEncoder()\r\n",
        "X_train[:,1] = le.fit_transform(X_train[:,1])\r\n",
        "print(X_train)"
      ],
      "execution_count": 13,
      "outputs": [
        {
          "output_type": "stream",
          "text": [
            "[[1 0 13 ... 5 25 18.0]\n",
            " [1 1 25 ... 1 1 6.0]\n",
            " [0 0 26 ... 5 0 0.0]\n",
            " ...\n",
            " [1 1 30 ... 4 7 14.0]\n",
            " [0 1 22 ... 1 0 0.0]\n",
            " [1 0 27 ... 1 0 0.0]]\n"
          ],
          "name": "stdout"
        }
      ]
    },
    {
      "cell_type": "code",
      "metadata": {
        "colab": {
          "base_uri": "https://localhost:8080/"
        },
        "id": "iePaY-N1BcLx",
        "outputId": "307614f4-174f-4883-a69b-95c4da3d29e1"
      },
      "source": [
        "from sklearn.preprocessing import LabelEncoder\r\n",
        "le = LabelEncoder()\r\n",
        "X_test[:,1] = le.fit_transform(X_test[:,1])\r\n",
        "print(X_test)"
      ],
      "execution_count": 14,
      "outputs": [
        {
          "output_type": "stream",
          "text": [
            "[[0 0 52 ... 5 50 44.0]\n",
            " [0 0 36 ... 5 0 0.0]\n",
            " [1 1 20 ... 2 0 0.0]\n",
            " ...\n",
            " [0 0 17 ... 2 0 0.0]\n",
            " [1 0 14 ... 4 0 0.0]\n",
            " [0 0 42 ... 1 0 0.0]]\n"
          ],
          "name": "stdout"
        }
      ]
    },
    {
      "cell_type": "markdown",
      "metadata": {
        "id": "Y5hA2xqKBy1I"
      },
      "source": [
        "# **Encode for Travel Type (Business vs Personal)**"
      ]
    },
    {
      "cell_type": "code",
      "metadata": {
        "colab": {
          "base_uri": "https://localhost:8080/"
        },
        "id": "yQu_jF06B6PT",
        "outputId": "01bd452e-95d3-4a92-e902-d41373e4d79b"
      },
      "source": [
        "from sklearn.preprocessing import LabelEncoder\r\n",
        "le = LabelEncoder()\r\n",
        "X_train[:,3] = le.fit_transform(X_train[:,3])\r\n",
        "print(X_train)"
      ],
      "execution_count": 15,
      "outputs": [
        {
          "output_type": "stream",
          "text": [
            "[[1 0 13 ... 5 25 18.0]\n",
            " [1 1 25 ... 1 1 6.0]\n",
            " [0 0 26 ... 5 0 0.0]\n",
            " ...\n",
            " [1 1 30 ... 4 7 14.0]\n",
            " [0 1 22 ... 1 0 0.0]\n",
            " [1 0 27 ... 1 0 0.0]]\n"
          ],
          "name": "stdout"
        }
      ]
    },
    {
      "cell_type": "code",
      "metadata": {
        "colab": {
          "base_uri": "https://localhost:8080/"
        },
        "id": "H-muu_P0CHOx",
        "outputId": "9b77059f-cbef-4c59-a225-a43fe8e9ce45"
      },
      "source": [
        "from sklearn.preprocessing import LabelEncoder\r\n",
        "le = LabelEncoder()\r\n",
        "X_test[:,3] = le.fit_transform(X_test[:,3])\r\n",
        "print(X_test)"
      ],
      "execution_count": 16,
      "outputs": [
        {
          "output_type": "stream",
          "text": [
            "[[0 0 52 ... 5 50 44.0]\n",
            " [0 0 36 ... 5 0 0.0]\n",
            " [1 1 20 ... 2 0 0.0]\n",
            " ...\n",
            " [0 0 17 ... 2 0 0.0]\n",
            " [1 0 14 ... 4 0 0.0]\n",
            " [0 0 42 ... 1 0 0.0]]\n"
          ],
          "name": "stdout"
        }
      ]
    },
    {
      "cell_type": "markdown",
      "metadata": {
        "id": "9qUON4RiCMKt"
      },
      "source": [
        "# **One Hot Encode for Class (Eco vs EcoPlus vs Business)**"
      ]
    },
    {
      "cell_type": "code",
      "metadata": {
        "colab": {
          "base_uri": "https://localhost:8080/"
        },
        "id": "_K-amqZfCm08",
        "outputId": "611f3201-b7f3-4c5d-85f0-7fb390c798ce"
      },
      "source": [
        "from sklearn.compose import ColumnTransformer\r\n",
        "from sklearn.preprocessing import OneHotEncoder\r\n",
        "ct = ColumnTransformer(transformers =[('encoder', OneHotEncoder(), [4])], remainder = 'passthrough')\r\n",
        "X_train = np.array(ct.fit_transform(X_train))\r\n",
        "print(X_train[:,4])"
      ],
      "execution_count": 17,
      "outputs": [
        {
          "output_type": "stream",
          "text": [
            "[0 1 0 ... 1 1 0]\n"
          ],
          "name": "stdout"
        }
      ]
    },
    {
      "cell_type": "code",
      "metadata": {
        "colab": {
          "base_uri": "https://localhost:8080/"
        },
        "id": "cLnSeI5tDRRp",
        "outputId": "70e560d8-a76a-4d8c-8af3-00c6495af0a9"
      },
      "source": [
        "from sklearn.compose import ColumnTransformer\r\n",
        "from sklearn.preprocessing import OneHotEncoder\r\n",
        "ct = ColumnTransformer(transformers =[('encoder', OneHotEncoder(), [4])], remainder = 'passthrough')\r\n",
        "X_test = np.array(ct.fit_transform(X_test))\r\n",
        "print(X_test[:,4])"
      ],
      "execution_count": 18,
      "outputs": [
        {
          "output_type": "stream",
          "text": [
            "[0 0 1 ... 0 0 0]\n"
          ],
          "name": "stdout"
        }
      ]
    },
    {
      "cell_type": "markdown",
      "metadata": {
        "id": "UpcqB-xoDk1X"
      },
      "source": [
        "# **Encode for Dependent Variable (Satisfied or Neutral/Unsatisfied)**"
      ]
    },
    {
      "cell_type": "code",
      "metadata": {
        "colab": {
          "base_uri": "https://localhost:8080/"
        },
        "id": "AFCvLwmPE7vO",
        "outputId": "d896dc88-66e1-49f1-ab09-6f8f784dde22"
      },
      "source": [
        "type(y_train)"
      ],
      "execution_count": 19,
      "outputs": [
        {
          "output_type": "execute_result",
          "data": {
            "text/plain": [
              "numpy.ndarray"
            ]
          },
          "metadata": {
            "tags": []
          },
          "execution_count": 19
        }
      ]
    },
    {
      "cell_type": "code",
      "metadata": {
        "colab": {
          "base_uri": "https://localhost:8080/"
        },
        "id": "3t6WDOkKDt9Q",
        "outputId": "02706e22-2c49-491c-de99-45924483de68"
      },
      "source": [
        "y_train = pd.array(y_train)\r\n",
        "print(y_train)"
      ],
      "execution_count": 20,
      "outputs": [
        {
          "output_type": "stream",
          "text": [
            "<StringArray>\n",
            "['neutral or dissatisfied', 'neutral or dissatisfied',\n",
            "               'satisfied', 'neutral or dissatisfied',\n",
            "               'satisfied', 'neutral or dissatisfied',\n",
            " 'neutral or dissatisfied',               'satisfied',\n",
            " 'neutral or dissatisfied', 'neutral or dissatisfied',\n",
            " ...\n",
            "               'satisfied', 'neutral or dissatisfied',\n",
            " 'neutral or dissatisfied',               'satisfied',\n",
            " 'neutral or dissatisfied', 'neutral or dissatisfied',\n",
            "               'satisfied', 'neutral or dissatisfied',\n",
            " 'neutral or dissatisfied', 'neutral or dissatisfied']\n",
            "Length: 103904, dtype: string\n"
          ],
          "name": "stdout"
        }
      ]
    },
    {
      "cell_type": "code",
      "metadata": {
        "colab": {
          "base_uri": "https://localhost:8080/"
        },
        "id": "iz2J7e-9ERor",
        "outputId": "5d2aef33-6f14-4061-cfe7-728d17f31651"
      },
      "source": [
        "from sklearn.preprocessing import LabelEncoder\r\n",
        "le = LabelEncoder()\r\n",
        "y_train = le.fit_transform(y_train)\r\n",
        "print(y_train)"
      ],
      "execution_count": 21,
      "outputs": [
        {
          "output_type": "stream",
          "text": [
            "[0 0 1 ... 0 0 0]\n"
          ],
          "name": "stdout"
        }
      ]
    },
    {
      "cell_type": "code",
      "metadata": {
        "colab": {
          "base_uri": "https://localhost:8080/"
        },
        "id": "9kwnYeiBFerD",
        "outputId": "66d99753-8a12-46ac-f9df-b481287808ba"
      },
      "source": [
        "from sklearn.preprocessing import LabelEncoder\r\n",
        "le = LabelEncoder()\r\n",
        "y_test = le.fit_transform(y_test)\r\n",
        "print(y_test)"
      ],
      "execution_count": 22,
      "outputs": [
        {
          "output_type": "stream",
          "text": [
            "[1 1 0 ... 0 1 0]\n"
          ],
          "name": "stdout"
        }
      ]
    },
    {
      "cell_type": "markdown",
      "metadata": {
        "id": "oWqR85bmKAu7"
      },
      "source": [
        "# **Remove Missing Values**"
      ]
    },
    {
      "cell_type": "code",
      "metadata": {
        "id": "vsX-VGleKEwd"
      },
      "source": [
        "from sklearn.impute import SimpleImputer \r\n",
        "imputer = SimpleImputer(missing_values = np.nan, strategy = 'mean')\r\n",
        "imputer.fit(X_train[:, :])\r\n",
        "X_train[:, :] = imputer.transform(X_train[:, :])"
      ],
      "execution_count": 23,
      "outputs": []
    },
    {
      "cell_type": "code",
      "metadata": {
        "id": "ruzqF3GbKLHQ"
      },
      "source": [
        "from sklearn.impute import SimpleImputer \r\n",
        "imputer = SimpleImputer(missing_values = np.nan, strategy = 'mean')\r\n",
        "imputer.fit(X_test[:, :])\r\n",
        "X_test[:, :] = imputer.transform(X_test[:, :])"
      ],
      "execution_count": 24,
      "outputs": []
    },
    {
      "cell_type": "markdown",
      "metadata": {
        "id": "NTYPjD0xFvDc"
      },
      "source": [
        "# **Feature Scaling**"
      ]
    },
    {
      "cell_type": "code",
      "metadata": {
        "id": "bav-hVG4FyTu"
      },
      "source": [
        "from sklearn.preprocessing import StandardScaler\r\n",
        "sc = StandardScaler()\r\n",
        "X_train = sc.fit_transform(X_train)\r\n",
        "X_test = sc.transform(X_test)"
      ],
      "execution_count": 25,
      "outputs": []
    },
    {
      "cell_type": "code",
      "metadata": {
        "colab": {
          "base_uri": "https://localhost:8080/"
        },
        "id": "nz3vQLp0Gkgf",
        "outputId": "97562807-54d2-43ee-e0c2-f4a37c29ad55"
      },
      "source": [
        "print(X_train)"
      ],
      "execution_count": 26,
      "outputs": [
        {
          "output_type": "stream",
          "text": [
            "[[-0.95690623 -0.90432653  3.58677552 ...  1.30586973  0.26639265\n",
            "   0.07301421]\n",
            " [ 1.04503447 -0.90432653 -0.27880195 ... -1.74229153 -0.36137482\n",
            "  -0.23753899]\n",
            " [ 1.04503447 -0.90432653 -0.27880195 ...  1.30586973 -0.3875318\n",
            "  -0.39281559]\n",
            " ...\n",
            " [ 1.04503447 -0.90432653 -0.27880195 ...  0.54382941 -0.20443295\n",
            "  -0.03050353]\n",
            " [-0.95690623  1.10579527 -0.27880195 ... -1.74229153 -0.3875318\n",
            "  -0.39281559]\n",
            " [ 1.04503447 -0.90432653 -0.27880195 ... -1.74229153 -0.3875318\n",
            "  -0.39281559]]\n"
          ],
          "name": "stdout"
        }
      ]
    },
    {
      "cell_type": "code",
      "metadata": {
        "colab": {
          "base_uri": "https://localhost:8080/"
        },
        "id": "wuxr2Jz-Gn2A",
        "outputId": "4fd4f8f0-1b77-4574-9f2e-4a98f6b311c5"
      },
      "source": [
        "print(X_test)"
      ],
      "execution_count": 27,
      "outputs": [
        {
          "output_type": "stream",
          "text": [
            "[[-0.95690623  1.10579527 -0.27880195 ...  1.30586973  0.92031709\n",
            "   0.74587946]\n",
            " [ 1.04503447 -0.90432653 -0.27880195 ...  1.30586973 -0.3875318\n",
            "  -0.39281559]\n",
            " [-0.95690623  1.10579527 -0.27880195 ... -0.98025121 -0.3875318\n",
            "  -0.39281559]\n",
            " ...\n",
            " [-0.95690623  1.10579527 -0.27880195 ... -0.98025121 -0.3875318\n",
            "  -0.39281559]\n",
            " [ 1.04503447 -0.90432653 -0.27880195 ...  0.54382941 -0.3875318\n",
            "  -0.39281559]\n",
            " [-0.95690623  1.10579527 -0.27880195 ... -1.74229153 -0.3875318\n",
            "  -0.39281559]]\n"
          ],
          "name": "stdout"
        }
      ]
    },
    {
      "cell_type": "markdown",
      "metadata": {
        "id": "K1XC4nyIHEUx"
      },
      "source": [
        "# **Building the SVM Kernel Model**"
      ]
    },
    {
      "cell_type": "code",
      "metadata": {
        "colab": {
          "base_uri": "https://localhost:8080/"
        },
        "id": "30JrBKBLHJF0",
        "outputId": "d9d69d7a-316c-488f-b66f-1d68423b90e9"
      },
      "source": [
        "from sklearn.svm import SVC\r\n",
        "classifier = SVC(kernel = 'rbf', random_state = 0)\r\n",
        "classifier.fit(X_train, y_train)"
      ],
      "execution_count": 28,
      "outputs": [
        {
          "output_type": "execute_result",
          "data": {
            "text/plain": [
              "SVC(C=1.0, break_ties=False, cache_size=200, class_weight=None, coef0=0.0,\n",
              "    decision_function_shape='ovr', degree=3, gamma='scale', kernel='rbf',\n",
              "    max_iter=-1, probability=False, random_state=0, shrinking=True, tol=0.001,\n",
              "    verbose=False)"
            ]
          },
          "metadata": {
            "tags": []
          },
          "execution_count": 28
        }
      ]
    },
    {
      "cell_type": "markdown",
      "metadata": {
        "id": "iker7COFJPo2"
      },
      "source": [
        "# **Predicting the Test Set Results**"
      ]
    },
    {
      "cell_type": "code",
      "metadata": {
        "id": "1lJPyqp4IErH"
      },
      "source": [
        "y_pred = classifier.predict(X_test)"
      ],
      "execution_count": 29,
      "outputs": []
    },
    {
      "cell_type": "markdown",
      "metadata": {
        "id": "TS6KrFwsJall"
      },
      "source": [
        "# **Constructing the Confusion Matrix**"
      ]
    },
    {
      "cell_type": "code",
      "metadata": {
        "colab": {
          "base_uri": "https://localhost:8080/"
        },
        "id": "ob68IJRyIUP5",
        "outputId": "f1b10034-11df-416f-ffe2-7c048be3547b"
      },
      "source": [
        "from sklearn.metrics import confusion_matrix, accuracy_score\r\n",
        "cm = confusion_matrix(y_test, y_pred)\r\n",
        "print(cm)\r\n",
        "accuracy_score(y_test, y_pred)"
      ],
      "execution_count": 30,
      "outputs": [
        {
          "output_type": "stream",
          "text": [
            "[[14103   470]\n",
            " [  719 10684]]\n"
          ],
          "name": "stdout"
        },
        {
          "output_type": "execute_result",
          "data": {
            "text/plain": [
              "0.954226978749615"
            ]
          },
          "metadata": {
            "tags": []
          },
          "execution_count": 30
        }
      ]
    },
    {
      "cell_type": "markdown",
      "metadata": {
        "id": "KN8BsEPFOuZr"
      },
      "source": [
        "# **Applying K-fold Cross Validation**"
      ]
    },
    {
      "cell_type": "code",
      "metadata": {
        "id": "qrNPO1bFI7Ea"
      },
      "source": [
        "from sklearn.model_selection import cross_val_score\r\n",
        "accuracies = cross_val_score(estimator = classifier, X = X_train, y = y_train, cv = 10)\r\n",
        "print(\"Accuracy: {:.2f} %\".format(accuracies.mean()*100))\r\n",
        "print(\"Standard Deviation: {:.2f} %\".format(accuracies.std()*100))"
      ],
      "execution_count": null,
      "outputs": []
    }
  ]
}